{
 "cells": [
  {
   "cell_type": "code",
   "execution_count": null,
   "metadata": {},
   "outputs": [],
   "source": [
    "import plotly.graph_objects as go\n",
    "import pandas as pd\n",
    "import pickle"
   ]
  },
  {
   "cell_type": "code",
   "execution_count": null,
   "metadata": {},
   "outputs": [],
   "source": [
    "# read plot fom file\n",
    "PLOT_NAME = 'plot_3d_df.pkl'\n",
    "with open('../plot_3d_df.pkl', 'rb+') as f:\n",
    "    plot_3d = pickle.load(f)"
   ]
  },
  {
   "cell_type": "code",
   "execution_count": null,
   "metadata": {},
   "outputs": [],
   "source": [
    "plot_data = [\n",
    "    plot_3d[list(plot_3d.keys())[0]].global_profit_abs,\n",
    "    plot_3d[list(plot_3d.keys())[1]].global_profit_abs,\n",
    "    plot_3d[list(plot_3d.keys())[2]].global_profit_abs,\n",
    "    plot_3d[list(plot_3d.keys())[3]].global_profit_abs,\n",
    "    plot_3d[list(plot_3d.keys())[4]].global_profit_abs,\n",
    "]\n",
    "fig3d = go.Figure(\n",
    "        go.Surface(\n",
    "            z=plot_data,\n",
    "            x=[\n",
    "                plot_3d[list(plot_3d.keys())[0]].start_datetime,\n",
    "                plot_3d[list(plot_3d.keys())[1]].start_datetime,\n",
    "                plot_3d[list(plot_3d.keys())[2]].start_datetime,\n",
    "                plot_3d[list(plot_3d.keys())[3]].start_datetime,\n",
    "                plot_3d[list(plot_3d.keys())[4]].start_datetime,\n",
    "            ],\n",
    "        )\n",
    ")\n",
    "\n",
    "fig3d.update_layout(title='plot_3d', autosize=False,\n",
    "                scene_camera_eye=dict(x=1.87, y=0.88, z=-0.64),\n",
    "                # width=500, height=500,\n",
    "                margin=dict(l=65, r=50, b=65, t=90)\n",
    ")\n",
    "fig3d.show()"
   ]
  }
 ],
 "metadata": {
  "kernelspec": {
   "display_name": "Python 3.10.4 64-bit",
   "language": "python",
   "name": "python3"
  },
  "language_info": {
   "codemirror_mode": {
    "name": "ipython",
    "version": 3
   },
   "file_extension": ".py",
   "mimetype": "text/x-python",
   "name": "python",
   "nbconvert_exporter": "python",
   "pygments_lexer": "ipython3",
   "version": "3.10.4"
  },
  "orig_nbformat": 4,
  "vscode": {
   "interpreter": {
    "hash": "d0d0e6139d133f739ac84a8fbdfc40fd82bf791df762f88f130b54eec223e56f"
   }
  }
 },
 "nbformat": 4,
 "nbformat_minor": 2
}
