{
 "cells": [
  {
   "cell_type": "code",
   "execution_count": null,
   "metadata": {},
   "outputs": [],
   "source": [
    "#load .env variables\n",
    "import os\n",
    "PWD = os.getenv('PWD')\n",
    "LOCAL_FOLDER = os.getenv('LOCAL_FOLDER')\n",
    "PWD\n",
    "os.chdir(PWD)\n",
    "\n",
    "\n",
    "from humming_bot_maintenance.bot_instances import instances\n",
    "from humming_bot_maintenance.modules import manage_bot_over_ssh as mb"
   ]
  },
  {
   "cell_type": "code",
   "execution_count": null,
   "metadata": {},
   "outputs": [],
   "source": [
    "assert 0"
   ]
  },
  {
   "cell_type": "markdown",
   "metadata": {},
   "source": [
    "### Use tasks to copy / send configs"
   ]
  },
  {
   "cell_type": "markdown",
   "metadata": {},
   "source": [
    "### Manual copy from sertain bot instances"
   ]
  },
  {
   "cell_type": "code",
   "execution_count": null,
   "metadata": {},
   "outputs": [],
   "source": [
    "from humming_bot_maintenance.bot_instances import old_inst as instances\n",
    "mb.copy_files_from_bot(\n",
    "            bot_instances=instances,\n",
    "            file_type='all',\n",
    "            LOCAL_FOLDER=LOCAL_FOLDER,\n",
    "        )"
   ]
  },
  {
   "cell_type": "markdown",
   "metadata": {},
   "source": [
    "### Archive files"
   ]
  },
  {
   "cell_type": "code",
   "execution_count": null,
   "metadata": {},
   "outputs": [],
   "source": [
    "# save configs and logs to archive\n",
    "RESEARCH_NAME = 'filled_order_delay_'\n",
    "mb.archive_files(RESEARCH_NAME, add_date=True)"
   ]
  }
 ],
 "metadata": {
  "kernelspec": {
   "display_name": "Python 3.9.9 64-bit",
   "language": "python",
   "name": "python3"
  },
  "language_info": {
   "codemirror_mode": {
    "name": "ipython",
    "version": 3
   },
   "file_extension": ".py",
   "mimetype": "text/x-python",
   "name": "python",
   "nbconvert_exporter": "python",
   "pygments_lexer": "ipython3",
   "version": "3.9.9"
  },
  "orig_nbformat": 4,
  "vscode": {
   "interpreter": {
    "hash": "81794d4967e6c3204c66dcd87b604927b115b27c00565d3d43f05ba2f3a2cb0d"
   }
  }
 },
 "nbformat": 4,
 "nbformat_minor": 2
}
