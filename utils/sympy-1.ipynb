{
 "cells": [
  {
   "cell_type": "code",
   "execution_count": 34,
   "metadata": {},
   "outputs": [
    {
     "data": {
      "text/latex": [
       "$\\displaystyle m = \\frac{j \\sin{\\left(y \\right)}}{x \\sqrt{1 - \\frac{\\sin^{2}{\\left(y \\right)}}{x^{2}}}} + k \\tan{\\left(y \\right)}$"
      ],
      "text/plain": [
       "Eq(m, j*sin(y)/(x*sqrt(1 - sin(y)**2/x**2)) + k*tan(y))"
      ]
     },
     "execution_count": 34,
     "metadata": {},
     "output_type": "execute_result"
    }
   ],
   "source": [
    "import sympy\n",
    "j, k, m, x, y = sympy.symbols(\"j k m x y\")\n",
    "eq = sympy.Eq(k * sympy.tan(y) + j * sympy.tan(sympy.asin(sympy.sin(y) / x)), m)\n",
    "eq.simplify()"
   ]
  },
  {
   "cell_type": "code",
   "execution_count": 42,
   "metadata": {},
   "outputs": [
    {
     "data": {
      "text/latex": [
       "$\\displaystyle ask$"
      ],
      "text/plain": [
       "ask"
      ]
     },
     "metadata": {},
     "output_type": "display_data"
    },
    {
     "data": {
      "text/latex": [
       "$\\displaystyle - \\frac{2 mid}{sp - 2}$"
      ],
      "text/plain": [
       "-2*mid/(sp - 2)"
      ]
     },
     "metadata": {},
     "output_type": "display_data"
    },
    {
     "data": {
      "text/latex": [
       "$\\displaystyle bid$"
      ],
      "text/plain": [
       "bid"
      ]
     },
     "metadata": {},
     "output_type": "display_data"
    },
    {
     "data": {
      "text/latex": [
       "$\\displaystyle \\frac{2 mid \\left(sp - 1\\right)}{sp - 2}$"
      ],
      "text/plain": [
       "2*mid*(sp - 1)/(sp - 2)"
      ]
     },
     "metadata": {},
     "output_type": "display_data"
    }
   ],
   "source": [
    "from IPython.display import display\n",
    "ask, bid, mid, sp = sympy.symbols(\"ask bid mid sp\")\n",
    "\n",
    "eq1 = sympy.Eq((ask + bid)/2, mid)\n",
    "eq2 = sympy.Eq((ask-bid)/ask, sp)\n",
    "\n",
    "sol = sympy.solve((eq1, eq2),(ask, bid))\n",
    "for i in sol.items(): \n",
    "    display(i[0], i[1])"
   ]
  },
  {
   "cell_type": "code",
   "execution_count": 50,
   "metadata": {},
   "outputs": [
    {
     "data": {
      "text/latex": [
       "$\\displaystyle mid = \\frac{ask}{2} + \\frac{bid}{2}$"
      ],
      "text/plain": [
       "Eq(mid, ask/2 + bid/2)"
      ]
     },
     "execution_count": 50,
     "metadata": {},
     "output_type": "execute_result"
    }
   ],
   "source": [
    "eq1.reversed"
   ]
  },
  {
   "cell_type": "code",
   "execution_count": 43,
   "metadata": {},
   "outputs": [
    {
     "data": {
      "text/latex": [
       "$\\displaystyle sp = \\frac{ask - bid}{ask}$"
      ],
      "text/plain": [
       "Eq(sp, (ask - bid)/ask)"
      ]
     },
     "execution_count": 43,
     "metadata": {},
     "output_type": "execute_result"
    }
   ],
   "source": [
    "eq2.simplify()"
   ]
  }
 ],
 "metadata": {
  "interpreter": {
   "hash": "7dbb48227429d816d4c18cb4c41daf2f2a573807217dcfe5dbffcbd04ff090e3"
  },
  "kernelspec": {
   "display_name": "Python 3.10.4 64-bit",
   "language": "python",
   "name": "python3"
  },
  "language_info": {
   "codemirror_mode": {
    "name": "ipython",
    "version": 3
   },
   "file_extension": ".py",
   "mimetype": "text/x-python",
   "name": "python",
   "nbconvert_exporter": "python",
   "pygments_lexer": "ipython3",
   "version": "3.10.4"
  },
  "orig_nbformat": 4
 },
 "nbformat": 4,
 "nbformat_minor": 2
}
