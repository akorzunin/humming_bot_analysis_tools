{
 "cells": [
  {
   "cell_type": "code",
   "execution_count": 6,
   "metadata": {},
   "outputs": [],
   "source": [
    "import ipywidgets as widgets\n",
    "from ipywidgets import AppLayout\n"
   ]
  },
  {
   "cell_type": "code",
   "execution_count": 7,
   "metadata": {},
   "outputs": [
    {
     "data": {
      "application/vnd.jupyter.widget-view+json": {
       "model_id": "85ade1d6be034b729a8d98dd5e5052f2",
       "version_major": 2,
       "version_minor": 0
      },
      "text/plain": [
       "AppLayout(children=(Text(value='100', description='amount USDT', layout=Layout(grid_area='left-sidebar')), Tex…"
      ]
     },
     "metadata": {},
     "output_type": "display_data"
    },
    {
     "data": {
      "application/vnd.jupyter.widget-view+json": {
       "model_id": "cc178aff6851427dbd004a726a449c25",
       "version_major": 2,
       "version_minor": 0
      },
      "text/plain": [
       "AppLayout(children=(Text(value='0.1', description='fee', disabled=True, layout=Layout(grid_area='left-sidebar'…"
      ]
     },
     "metadata": {},
     "output_type": "display_data"
    },
    {
     "data": {
      "application/vnd.jupyter.widget-view+json": {
       "model_id": "5294eddac65e42b280974ad7caac19c1",
       "version_major": 2,
       "version_minor": 0
      },
      "text/plain": [
       "AppLayout(children=(Text(value='4995.0', description='sub amount', disabled=True, layout=Layout(grid_area='lef…"
      ]
     },
     "metadata": {},
     "output_type": "display_data"
    },
    {
     "data": {
      "application/vnd.jupyter.widget-view+json": {
       "model_id": "0c819bd2f40b4922915b779a5f7ca334",
       "version_major": 2,
       "version_minor": 0
      },
      "text/plain": [
       "AppLayout(children=(FloatRangeSlider(value=(5.0, 7.5), description='SUB range', disabled=True, layout=Layout(g…"
      ]
     },
     "metadata": {},
     "output_type": "display_data"
    }
   ],
   "source": [
    "output2 = widgets.Output()\n",
    "\n",
    "price = widgets.FloatSlider(\n",
    "    value=0.02,\n",
    "    min=0,\n",
    "    max=0.04,\n",
    "    step=0.001,\n",
    "    description=\"SUBUSDT p\",\n",
    "    readout_format='.3f',\n",
    ")\n",
    "amount = widgets.Text(\n",
    "    value='100', \n",
    "    disabled=False,\n",
    "    description=\"amount USDT\"\n",
    ")\n",
    "in_amount_sub = widgets.Text(\n",
    "    value='300', \n",
    "    disabled=False,\n",
    "    description=\"amount SUB\"\n",
    ")\n",
    "fee = widgets.Text(\n",
    "    value=str(float(amount.value) * 0.001), \n",
    "    disabled=True,\n",
    "    description=\"fee\",\n",
    ")\n",
    "fee_amount = widgets.Text(\n",
    "    value=str(float(amount.value) * (1 - 0.001)), \n",
    "    disabled=True,\n",
    "    description=\"fee amount\",\n",
    ")\n",
    "sub_amount = widgets.Text(\n",
    "    value=str(float(fee_amount.value) / float(price.value)), \n",
    "    disabled=True,\n",
    "    description=\"sub amount\",\n",
    ")\n",
    "sub_range = widgets.FloatRangeSlider(\n",
    "    value=[5, 7.5],\n",
    "    min=0,\n",
    "    max=10.0,\n",
    "    step=0.1,\n",
    "    description='SUB range',\n",
    "    disabled=True,\n",
    "    # continuous_update=False,\n",
    "    orientation='horizontal',\n",
    "    readout=True,\n",
    "    readout_format='.2f',\n",
    ")\n",
    "# display(amount, output2)\n",
    "# display(price, output2)\n",
    "# display(fee, output2)\n",
    "# display(fee_amount, output2)\n",
    "\n",
    "def on_price_change(change):\n",
    "    with output2:\n",
    "        # fee_amount.value = str(change[''])\n",
    "        sub_amount.value = str(float(fee_amount.value) / float(price.value))\n",
    "def on_amount_change(change):\n",
    "    with output2:\n",
    "        fee.value = str(float(change['new'])* 0.001)\n",
    "        fee_amount.value = str(float(change['new'])* (1- 0.001))\n",
    "\n",
    "amount.observe(on_amount_change, names='value')\n",
    "price.observe(on_price_change, names='value')\n",
    "\n",
    "display(\n",
    "    AppLayout(\n",
    "        left_sidebar=amount, \n",
    "        right_sidebar=in_amount_sub,\n",
    "    ),\n",
    "# )\n",
    "# display(\n",
    "    AppLayout(\n",
    "        left_sidebar=fee, \n",
    "        right_sidebar=fee_amount,\n",
    "    ),\n",
    "# )\n",
    "# display(\n",
    "    AppLayout(\n",
    "        left_sidebar=sub_amount, \n",
    "        right_sidebar=price,\n",
    "    ),\n",
    "# )\n",
    "# display(\n",
    "    AppLayout(\n",
    "        left_sidebar=sub_range, \n",
    "        right_sidebar=None,\n",
    "    ),\n",
    ")\n",
    "# TODO add spread FloatRangeSlider"
   ]
  },
  {
   "cell_type": "code",
   "execution_count": 8,
   "metadata": {},
   "outputs": [],
   "source": [
    "# utils\n",
    "def calc_bid(price_w, spread_w):\n",
    "    return 2 * float(price_w) * (float(spread_w)/100 - 1)/(float(spread_w)/100 - 2)\n",
    "\n",
    "def calc_ask(price_w, spread_w):\n",
    "    return -2*float(price_w)/(float(spread_w)/100 - 2)\n",
    "\n",
    "def calc_sub_trade(amount_USD, price_w, fee):\n",
    "    res = float((float(amount_USD)/float(price_w))*fee)\n",
    "\n",
    "    return str(round(res, 4))\n",
    "\n",
    "def calc_sell_trade(amount_SUB, price_w, fee):\n",
    "    # res = float((float(amount_USD)/float(price_w))*fee)\n",
    "    res = float(amount_SUB)*float(price_w)*fee\n",
    "    return str(round(res, 4))\n",
    "def calc_profit(amount_USD, fee_amount_sell):\n",
    "    res = float(fee_amount_sell) - float(amount_USD)\n",
    "    return str(round(res, 4))\n",
    "def calc_buy_upd():\n",
    "    amount_SUB.value = calc_sub_trade(amount_USD.value, spread_disp.value[0], 1)\n",
    "    fee_amount_buy.value = calc_sub_trade(amount_USD.value, spread_disp.value[0], 0.999)\n",
    "    price_buy.value = str(round(float(spread_disp.value[0]), 6))\n",
    "    fee_buy.value = calc_sub_trade(amount_USD.value, spread_disp.value[0], 0.001)\n",
    "\n",
    "def calc_sell_upd():\n",
    "    amount_USD_sell.value = calc_sell_trade(fee_amount_buy.value, spread_disp.value[1], 1)\n",
    "    fee_amount_sell.value = calc_sell_trade(fee_amount_buy.value, spread_disp.value[1], 0.999)\n",
    "    price_sell.value = str(round(float(spread_disp.value[1]), 6))\n",
    "    fee_sell.value = calc_sell_trade(fee_amount_buy.value, spread_disp.value[1], 0.001)\n",
    "\n"
   ]
  },
  {
   "cell_type": "code",
   "execution_count": 9,
   "metadata": {},
   "outputs": [],
   "source": [
    "spread_calc_output = widgets.Output()\n"
   ]
  },
  {
   "cell_type": "code",
   "execution_count": 10,
   "metadata": {},
   "outputs": [
    {
     "data": {
      "application/vnd.jupyter.widget-view+json": {
       "model_id": "88814605253344ad9fc80959e34d2648",
       "version_major": 2,
       "version_minor": 0
      },
      "text/plain": [
       "AppLayout(children=(Text(value='10', description='amount USDT', layout=Layout(grid_area='right-sidebar')),), l…"
      ]
     },
     "metadata": {},
     "output_type": "display_data"
    },
    {
     "data": {
      "application/vnd.jupyter.widget-view+json": {
       "model_id": "902d7632c889467e8abedf76d5b062cd",
       "version_major": 2,
       "version_minor": 0
      },
      "text/plain": [
       "AppLayout(children=(FloatSlider(value=0.5, description='spread %', layout=Layout(grid_area='left-sidebar'), ma…"
      ]
     },
     "metadata": {},
     "output_type": "display_data"
    },
    {
     "data": {
      "application/vnd.jupyter.widget-view+json": {
       "model_id": "fbb9393d97974579a4edf17b350098db",
       "version_major": 2,
       "version_minor": 0
      },
      "text/plain": [
       "AppLayout(children=(FloatRangeSlider(value=(0.02766050125313283, 0.027799498746867168), description='SUB range…"
      ]
     },
     "metadata": {},
     "output_type": "display_data"
    },
    {
     "data": {
      "application/vnd.jupyter.widget-view+json": {
       "model_id": "469272eefb9e4a8dbd2d02d55caf58a1",
       "version_major": 2,
       "version_minor": 0
      },
      "text/plain": [
       "AppLayout(children=(Text(value='361.5263', description='amount SUB', disabled=True, layout=Layout(grid_area='l…"
      ]
     },
     "metadata": {},
     "output_type": "display_data"
    },
    {
     "data": {
      "application/vnd.jupyter.widget-view+json": {
       "model_id": "d806ac70823c405685e65686116bc233",
       "version_major": 2,
       "version_minor": 0
      },
      "text/plain": [
       "AppLayout(children=(Text(value='0.02766050125313283', description='price buy', disabled=True, layout=Layout(gr…"
      ]
     },
     "metadata": {},
     "output_type": "display_data"
    },
    {
     "data": {
      "application/vnd.jupyter.widget-view+json": {
       "model_id": "d5b4922f310640bb88978dea626f0193",
       "version_major": 2,
       "version_minor": 0
      },
      "text/plain": [
       "AppLayout(children=(Text(value='10.0402', description='amount USD', disabled=True, layout=Layout(grid_area='le…"
      ]
     },
     "metadata": {},
     "output_type": "display_data"
    },
    {
     "data": {
      "application/vnd.jupyter.widget-view+json": {
       "model_id": "1eac08224b0148e9b26c7070e9a44625",
       "version_major": 2,
       "version_minor": 0
      },
      "text/plain": [
       "AppLayout(children=(Text(value='0.027799498746867168', description='price sell', disabled=True, layout=Layout(…"
      ]
     },
     "metadata": {},
     "output_type": "display_data"
    },
    {
     "data": {
      "application/vnd.jupyter.widget-view+json": {
       "model_id": "ce6121fe477f44a28454cb26bd97d447",
       "version_major": 2,
       "version_minor": 0
      },
      "text/plain": [
       "AppLayout(children=(Text(value='0.0302', description='profit rel', disabled=True, layout=Layout(grid_area='lef…"
      ]
     },
     "metadata": {},
     "output_type": "display_data"
    }
   ],
   "source": [
    "INIT_USD = 10\n",
    "INIT_PRICE = 0.02773\n",
    "INIT_SPREAD = 0.5\n",
    "\n",
    "amount_USD = widgets.Text(\n",
    "    value=str(INIT_USD), \n",
    "    disabled=False,\n",
    "    description=\"amount USDT\"\n",
    ")\n",
    "spread_w = widgets.FloatSlider(\n",
    "    value=INIT_SPREAD,\n",
    "    min=0,\n",
    "    max=1,\n",
    "    step=0.001,\n",
    "    description=\"spread %\",\n",
    "    readout_format='.3f',\n",
    ")\n",
    "price_w = widgets.FloatSlider(\n",
    "    value=INIT_PRICE,\n",
    "    min=INIT_PRICE*0.995,\n",
    "    max=INIT_PRICE*1.005,\n",
    "    step=0.0000000000000000001,\n",
    "    description=\"price\",\n",
    "    readout_format='.5f',\n",
    ")\n",
    "spread_disp = widgets.FloatRangeSlider(\n",
    "    value=[\n",
    "        calc_bid(price_w.value, spread_w.value), # bid\n",
    "        calc_ask(price_w.value, spread_w.value), # ask\n",
    "    ],\n",
    "    min=INIT_PRICE*0.995,\n",
    "    max=INIT_PRICE*1.005,\n",
    "    step=0.0000000000000000001,\n",
    "    description='SUB range',\n",
    "    disabled=True,\n",
    "    # continuous_update=True,\n",
    "    orientation='horizontal',\n",
    "    readout=True,\n",
    "    readout_format='.2f',\n",
    ")\n",
    "amount_SUB = widgets.Text(\n",
    "    value=calc_sub_trade(amount_USD.value, spread_disp.value[0], 1), \n",
    "    disabled=True,\n",
    "    description=\"amount SUB\",\n",
    ")\n",
    "fee_amount_buy = widgets.Text(\n",
    "    value=calc_sub_trade(amount_USD.value, spread_disp.value[0], 0.999), \n",
    "    disabled=True,\n",
    "    description=\"fee amount\",\n",
    ")\n",
    "price_buy = widgets.Text(\n",
    "    value=str(float(spread_disp.value[0])), \n",
    "    disabled=True,\n",
    "    description=\"price buy\",\n",
    ")\n",
    "fee_buy = widgets.Text(\n",
    "    value=calc_sub_trade(amount_USD.value, spread_disp.value[0], 0.001), \n",
    "    disabled=True,\n",
    "    description=\"fee buy\",\n",
    ")\n",
    "\n",
    "amount_USD_sell = widgets.Text(\n",
    "    value=calc_sell_trade(fee_amount_buy.value, spread_disp.value[1], 1), \n",
    "    disabled=True,\n",
    "    description=\"amount USD\",\n",
    ")\n",
    "fee_amount_sell = widgets.Text(\n",
    "    value=calc_sell_trade(fee_amount_buy.value, spread_disp.value[1], 0.999), \n",
    "    disabled=True,\n",
    "    description=\"fee amount\",\n",
    ")\n",
    "price_sell = widgets.Text(\n",
    "    value=str(float(spread_disp.value[1])), \n",
    "    disabled=True,\n",
    "    description=\"price sell\",\n",
    ")\n",
    "fee_sell = widgets.Text(\n",
    "    value=calc_sell_trade(fee_amount_buy.value, spread_disp.value[1], 0.001), \n",
    "    disabled=True,\n",
    "    description=\"fee sell\",\n",
    ")\n",
    "profit_rel = widgets.Text(\n",
    "    value=calc_profit(amount_USD.value, fee_amount_sell.value), \n",
    "    disabled=True,\n",
    "    description=\"profit rel\",\n",
    ")\n",
    "profit_abs = widgets.Text(\n",
    "    value='0', \n",
    "    disabled=True,\n",
    "    description=\"profit abs\",\n",
    ")\n",
    "\n",
    "# callbacks\n",
    "\n",
    "def on_spread_w_change(change):\n",
    "    with spread_calc_output:\n",
    "        spread_disp.value = [\n",
    "            calc_bid(price_w.value, change['new']), # bid\n",
    "            calc_ask(price_w.value, change['new']), # ask\n",
    "        ]\n",
    "        calc_buy_upd()\n",
    "        calc_sell_upd()\n",
    "        profit_rel.value = calc_profit(amount_USD.value, fee_amount_sell.value)\n",
    "\n",
    "def on_price_w_change(change):\n",
    "    with spread_calc_output:\n",
    "        spread_disp.value = [\n",
    "            calc_bid(change['new'], spread_w.value), # bid\n",
    "            calc_ask(change['new'], spread_w.value), # ask\n",
    "        ]\n",
    "        calc_buy_upd()\n",
    "        calc_sell_upd()\n",
    "        profit_rel.value = calc_profit(amount_USD.value, fee_amount_sell.value)\n",
    "def on_amount_USD_change(change):\n",
    "    with spread_calc_output:\n",
    "        spread_disp.value = [\n",
    "            calc_bid(price_w.value, spread_w.value), # bid\n",
    "            calc_ask(price_w.value, spread_w.value), # ask\n",
    "        ]\n",
    "        calc_buy_upd()\n",
    "        calc_sell_upd()\n",
    "        profit_rel.value = calc_profit(amount_USD.value, fee_amount_sell.value)\n",
    "\n",
    "spread_w.observe(on_spread_w_change, names='value')\n",
    "price_w.observe(on_price_w_change, names='value')\n",
    "amount_USD.observe(on_amount_USD_change, names='value')\n",
    "\n",
    "display(\n",
    "    AppLayout(\n",
    "        left_sidebar=None, \n",
    "        right_sidebar=amount_USD,\n",
    "    ),\n",
    "    AppLayout(\n",
    "        left_sidebar=spread_w, \n",
    "        right_sidebar=price_w,\n",
    "    ),\n",
    "    AppLayout(\n",
    "        left_sidebar=spread_disp, \n",
    "        right_sidebar=None,\n",
    "    ),\n",
    "    AppLayout(\n",
    "        left_sidebar=amount_SUB, \n",
    "        right_sidebar=fee_amount_buy,\n",
    "    ),\n",
    "    AppLayout(\n",
    "        left_sidebar=price_buy, \n",
    "        right_sidebar=fee_buy,\n",
    "    ),\n",
    "    AppLayout(\n",
    "        left_sidebar=amount_USD_sell, \n",
    "        right_sidebar=fee_amount_sell,\n",
    "    ),\n",
    "    AppLayout(\n",
    "        left_sidebar=price_sell, \n",
    "        right_sidebar=fee_sell,\n",
    "    ),\n",
    "    AppLayout(\n",
    "        left_sidebar=profit_rel, \n",
    "        right_sidebar=profit_abs,\n",
    "    ),\n",
    ")"
   ]
  }
 ],
 "metadata": {
  "kernelspec": {
   "display_name": "Python 3.9.9 64-bit",
   "language": "python",
   "name": "python3"
  },
  "language_info": {
   "codemirror_mode": {
    "name": "ipython",
    "version": 3
   },
   "file_extension": ".py",
   "mimetype": "text/x-python",
   "name": "python",
   "nbconvert_exporter": "python",
   "pygments_lexer": "ipython3",
   "version": "3.9.9"
  },
  "orig_nbformat": 4,
  "vscode": {
   "interpreter": {
    "hash": "81794d4967e6c3204c66dcd87b604927b115b27c00565d3d43f05ba2f3a2cb0d"
   }
  }
 },
 "nbformat": 4,
 "nbformat_minor": 2
}
